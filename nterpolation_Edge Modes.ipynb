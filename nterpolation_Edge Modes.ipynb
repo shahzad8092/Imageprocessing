{
 "cells": [
  {
   "cell_type": "code",
   "execution_count": 1,
   "metadata": {},
   "outputs": [],
   "source": [
    "import numpy as np\n",
    "import matplotlib.pyplot as plt\n",
    "from skimage.util import pad"
   ]
  },
  {
   "cell_type": "code",
   "execution_count": 2,
   "metadata": {},
   "outputs": [],
   "source": [
    "# Create sample image\n",
    "# used pad() to pad the image\n",
    "# use different edge modes to interpolate padded edges"
   ]
  },
  {
   "cell_type": "code",
   "execution_count": 4,
   "metadata": {
    "scrolled": true
   },
   "outputs": [
    {
     "data": {
      "image/png": "[encoded data removed]",
      "text/plain": [
       "<Figure size 432x288 with 6 Axes>"
      ]
     },
     "metadata": {
      "needs_background": "light"
     },
     "output_type": "display_data"
    }
   ],
   "source": [
    "img = np.zeros((16, 16))\n",
    "img[:8, :8] += 1\n",
    "img[:4, :4] += 1\n",
    "img[:2, :2] += 1\n",
    "img[:1, :1] += 2\n",
    "img[8, 8] = 4\n",
    "\n",
    "modes = ['constant', 'edge', 'wrap',\n",
    "         'reflect', 'symmetric']\n",
    "\n",
    "fig, axes = plt.subplots(2, 3)\n",
    "ax = axes.flatten()\n",
    "\n",
    "for n, mode in enumerate(modes):\n",
    "    img_padded = pad ( img, pad_width=img.shape[0],\n",
    "                     mode = mode)\n",
    "    ax[n].imshow(img_padded, cmap='gray',\n",
    "                interpolation='nearest')\n",
    "    ax[n].set_title(mode)\n",
    "\n",
    "for a in ax:\n",
    "    a.set_axis_off()\n",
    "    a.set_aspect('equal')\n",
    "\n",
    "plt.tight_layout()\n",
    "plt.show()"
   ]
  },
  {
   "cell_type": "code",
   "execution_count": null,
   "metadata": {},
   "outputs": [],
   "source": []
  }
 ],
 "metadata": {
  "kernelspec": {
   "display_name": "Python 3",
   "language": "python",
   "name": "python3"
  },
  "language_info": {
   "codemirror_mode": {
    "name": "ipython",
    "version": 3
   },
   "file_extension": ".py",
   "mimetype": "text/x-python",
   "name": "python",
   "nbconvert_exporter": "python",
   "pygments_lexer": "ipython3",
   "version": "3.7.3"
  }
 },
 "nbformat": 4,
 "nbformat_minor": 2
}
